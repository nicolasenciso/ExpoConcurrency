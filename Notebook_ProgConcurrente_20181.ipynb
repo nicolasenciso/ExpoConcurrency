{
  "nbformat": 4,
  "nbformat_minor": 0,
  "metadata": {
    "colab": {
      "name": "Notebook_ProgConcurrente_20181.ipynb",
      "version": "0.3.2",
      "views": {},
      "default_view": {},
      "provenance": [],
      "collapsed_sections": []
    }
  },
  "cells": [
    {
      "metadata": {
        "id": "3gYo-sLLXoBO",
        "colab_type": "text"
      },
      "cell_type": "markdown",
      "source": [
        "#PROGRAMACIÓN CONCURRENTE"
      ]
    },
    {
      "metadata": {
        "id": "_tKfC-vkcZ-v",
        "colab_type": "text"
      },
      "cell_type": "markdown",
      "source": [
        "La programación concurrente con su forma de estructurar procesos independientes ha logrado que las tareas sean mas rapidas y eficientes, pero, no sin pagar un pequeño costo. Estos procesos avanzan casi al mismo tiempo y son capaces de comunicarse entre ellos para sacar adelante tareas complejas, pero sin mecanismos que aseguren una buena sincronizacion entre estos, lo que deberia ser mas rapido ahora es más lento y hay veces en las que no termina incluso.\n",
        "A continuación mostraremos algunos aspectos y problemas con los que se debe ser cuidadoso al tyrabajar con programas concurrentes."
      ]
    },
    {
      "metadata": {
        "id": "LfPgfIGiSFiN",
        "colab_type": "text"
      },
      "cell_type": "markdown",
      "source": [
        "##NO DETERMINISMO\n",
        "En programas concurrentes, se presenta la cualidad de tener software que no van a dar siempre la misma salida, sea o no igual su entrada. Lo anterior se debe en si a la naturaleza misma de la porgramación concurrente, adicional a características propias del lenguaje usado.\n",
        "\n",
        "En general en la concurrencia, los hilos independientes de ejecución, van siendo despachados por el procesador, siguiendo las intrucciones que el código del hilo describe. Dado a que varios hilos solicitan ser despachados por el procesador en periodos intercalados, se puede dar a que un hilo que entró de primeras no sea el primero que sale, ni que el primero que entró sea el último en salir, sino que su orden depende de la cantidad de instrucciones, el tipo de instrucciones, los recursos, las respuestas, sincronizaciones y demás elementos que condicionan el orden en el que se van dando los resultados.\n"
      ]
    },
    {
      "metadata": {
        "id": "ONnlVjOoTw9L",
        "colab_type": "text"
      },
      "cell_type": "markdown",
      "source": [
        "### EJEMPLO ADA\n",
        "En el siguiente ejemplo de código Ada vamos a ver cómo se puede dar el no determinismo en un caso muy sencillo.\n",
        "\n",
        "Primero veremos como se estructura la concurrencia en Ada.\n",
        "\n",
        "En la parte inicial se indica que usaremos la salida de texto en consola, para ello hacemos:"
      ]
    },
    {
      "metadata": {
        "id": "wjEyC7AuT_83",
        "colab_type": "code",
        "colab": {
          "autoexec": {
            "startup": false,
            "wait_interval": 0
          }
        }
      },
      "cell_type": "code",
      "source": [
        "\n",
        "with Ada.Text_Io;\n",
        "use Ada.Text_Io;"
      ],
      "execution_count": 0,
      "outputs": []
    },
    {
      "metadata": {
        "id": "V444iPeqUZ-l",
        "colab_type": "text"
      },
      "cell_type": "markdown",
      "source": [
        "A continuación ponemos nuestro procedimiento principal, llamado *Hello*  que contendrá 3 tareas. Hay que tener en cuenta que el procedimiento en sí mismo es también una tarea. En Ada las tareas son llamadas Task."
      ]
    },
    {
      "metadata": {
        "id": "cxHo4ZtVU_ln",
        "colab_type": "code",
        "colab": {
          "autoexec": {
            "startup": false,
            "wait_interval": 0
          }
        }
      },
      "cell_type": "code",
      "source": [
        "\n",
        "with Ada.Text_Io;\n",
        "use Ada.Text_Io;\n",
        "procedure Hello is\n",
        "  \n",
        "  task Tarea1;\n",
        "  task Tarea2;\n",
        "  task Tarea3;\n",
        "\n",
        "  task body Tarea1 is\n",
        "  begin\n",
        "    \n",
        "      Put_Line(\"Hilo 1 ejecutado\");\n",
        "    \n",
        "  end Tarea1;\n",
        "\n",
        "  task body Tarea2 is\n",
        "  begin\n",
        "    \n",
        "      Put_Line(\"Hilo 2 ejecutado\");\n",
        "    \n",
        "  end Tarea2;\n",
        "\n",
        "   task body Tarea3 is\n",
        "  begin\n",
        "    \n",
        "      Put_Line(\"Hilo 3 ejecutado\");\n",
        "    \n",
        "  end Tarea3;\n",
        "\n",
        "begin\n",
        "  -- En este momento comienzan a ejecutarse ambas tareas.\n",
        "  Put_Line(\"Finalizacion procedimiento principal\");\n",
        "end Hello;\n"
      ],
      "execution_count": 0,
      "outputs": []
    },
    {
      "metadata": {
        "id": "4NRSey6SVKgt",
        "colab_type": "text"
      },
      "cell_type": "markdown",
      "source": [
        "Cada tarea, se define en dos momentos: la primera declarandolo (task Tarea; ), la segunda es el cuerpo, donde se define que es lo que hará la tarea.\n",
        "\n",
        "###Ejecución de las tareas y su orden\n",
        "El orden de las tareas se establece de acuerdo al orden en el que se declararon. Las tareas son llamadas a ser ejecutadas apenas al ejecutarse llegar a *Begin*  en el procedimiento Hello.\n",
        "Las tareas son llamadas a ser ejecutadas, para luego ser ejecutadas.\n",
        "\n",
        "###Momento de no determinismo\n",
        "Cuando las tareas son llamadas a ser ejecutadas en el *Begin* , en teoría se mostraría en pantalla HIlo 1 ejecutado, Hilo 2 ejecutado, Hilo 3 ejecutado, en ese mismo orden, hasta acabar el programa imprimiendo \"Finalización procedimiento principal\".\n",
        "\n",
        "Si se ejecuta de forma sucesiva el mismo programa, nuestro ejemplo, se podrá notar que en algunos casos ese orden no se da, ésto se debe a que **** **la operación imprimir en pantalla \"Puts\" no es atómica** es decir, la operación \"puts\" se puede dividir, y es devido a que es un compuesto de operaciones de llamado del sistema, es por ello que un hilo puede que llegue y espere por un corto tiempo a que sea devuelto su impresión en pantalla, mientras en ese mismo momento otro hilo llega y obtiene más rápido que el primer hilo que llegó, su impresión en pantalla, alterando el orden de ejecución."
      ]
    },
    {
      "metadata": {
        "id": "DUe7eH6AX0nl",
        "colab_type": "text"
      },
      "cell_type": "markdown",
      "source": [
        "##PROBLEMAS EN LA CONCURRENCIA"
      ]
    },
    {
      "metadata": {
        "id": "3Tb_BF2caPdw",
        "colab_type": "text"
      },
      "cell_type": "markdown",
      "source": [
        "## Violación de la exclusión mutua\n",
        "Ocurre cuando varios procesos intentan ejecutar una sección critica del código al mismo tiempo y lo logran con resultados indeseados. En este ejemplo de Java tenemos dos hilos que acceden a un elemento contador y activan su función de incremento, cada hilo hace esto 500 mil veces, y como el objeto inicia en 0 se deberia acabar con 1 millon en el contador, pero no es asi.\n",
        "Cada vez que se ejecuta el programa se obtienen resultados distintos."
      ]
    },
    {
      "metadata": {
        "id": "qDhrgWZ0bJj3",
        "colab_type": "code",
        "colab": {
          "autoexec": {
            "startup": false,
            "wait_interval": 0
          }
        }
      },
      "cell_type": "code",
      "source": [
        " public class Counting {\n",
        "  public static void main(String[] args) throws InterruptedException {\n",
        "  class Counter {\n",
        "    int counter = 0;\n",
        "    public void increment() { counter++; }\n",
        "    public int get() { return counter; }\n",
        "  }\n",
        "  final Counter counter = new Counter();\n",
        "\n",
        "  class CountingThread extends Thread {\n",
        "    public void run() {\n",
        "    for (int x = 0; x < 500000; x++) {\n",
        "      counter.increment();\n",
        "      }\n",
        "    }\n",
        "  }\n",
        "\n",
        "  CountingThread t1 = new CountingThread();\n",
        "  CountingThread t2 = new CountingThread();\n",
        "  t1.start(); t2.start();\n",
        "  t1.join(); t2.join();\n",
        "  System.out.println(counter.get());//deberia dar 1000000\n",
        "  }\n",
        " }\n",
        "    "
      ],
      "execution_count": 0,
      "outputs": []
    },
    {
      "metadata": {
        "id": "Xih7Q0QJYFAt",
        "colab_type": "text"
      },
      "cell_type": "markdown",
      "source": [
        "##Lockout o aplazamiento indefinido\n",
        "Éste problema se basa en que, dados dos o más procesos o hilos, corriendo concurrentemente, uno de esos hilos se quede esperando indefinidamente a que se libere un recurso que necesita y que está siendo usado por otro hilo, o cuando el hilo que se queda en espera nunca es llamado y se mantiene en espera, sin ser finalmente nunca llamado a ser ejecutado.\n",
        "\n",
        "Para ejemplificar mejor el problema, mostraremos un ejemplo hecho en Ada, donde dos tareas (hilos) contienen un ciclo. Un hilo hace el llamado al otro.\n",
        "\n",
        "El ejemplo muestra el orden en el que se come un perro caliente: primero se hace el perro caliente, luego se pone en un plato, se le pone mostaza, come hasta decir que no se quiere más.\n",
        "\n",
        "El ejemplo es el siguiente:"
      ]
    },
    {
      "metadata": {
        "id": "ssVbuyFGZVyw",
        "colab_type": "code",
        "colab": {
          "autoexec": {
            "startup": false,
            "wait_interval": 0
          }
        }
      },
      "cell_type": "code",
      "source": [
        "with Ada.Text_IO;\n",
        "use Ada.Text_IO;\n",
        "--rendezvous asimetrico llamada y espera de tarea\n",
        "procedure HotDog is\n",
        "   task Gourmet is\n",
        "      entry Make_A_Hot_Dog;\n",
        "   end Gourmet;\n",
        "   task body Gourmet is\n",
        "   begin\n",
        "      Put_Line(\"Voy a preparar un perro caliente\");\n",
        "      for Index in 1..5 loop --si se cambia el 4 por un 5 se entrará en inanicion porque el task main del procedure hotdog no recibira la llamada \n",
        "         accept Make_A_Hot_Dog do\n",
        "            delay 0.8;\n",
        "            Put(\"Pongo el perro caliente en la mesa \");\n",
        "            Put_Line(\" y le pongo mostaza\");\n",
        "         end Make_A_Hot_Dog;\n",
        "      end loop;\n",
        "      Put_Line(\"ya no quiero mas perros calientes\");\n",
        "   end Gourmet;\n",
        "begin\n",
        "   for Index in 1..4 loop\n",
        "      Gourmet.Make_A_Hot_Dog;\n",
        "      delay 0.1;\n",
        "      Put_Line(\"como lo que me queda de perro caliente\");\n",
        "      New_Line;\n",
        "   end loop;\n",
        "   Put_Line(\"ya estoy lleno\");\n",
        "end HotDog;"
      ],
      "execution_count": 0,
      "outputs": []
    },
    {
      "metadata": {
        "id": "D4eCLXqLZdVj",
        "colab_type": "text"
      },
      "cell_type": "markdown",
      "source": [
        "Podemos ver que se tiene un procedimiento llamado HoDog, el cual contiene una tarea: Gourmet. En definitiva recordemos que tenemos dos hilos, añadiendo que el procedimiento en si (HotDog) es un hilo.\n",
        "\n",
        "En la declaración de la tarea Gourmet, se puede ver que hay una sentencia *entry* , que es la encargada de recibir como entrada. Es ésta la sentencia que es llamada para que el hilo Gourmet sea ejecutado.\n",
        "\n",
        "En el cuerpo de la tarea Gourmet, se tiene un ciclo el cual contiene una sentencia *accept*, ésta sentencia define el momento en el que el hilo se detiene a esperar ser ejecutado. Es decir, otro hilo que quiera ejecutar el hilo Gourmet, debe hacer el entry de Make_A_Hot_Dog, y el hilo Gourmet va a ejecutarse en accept, donde se ejecuta.\n",
        "\n",
        "Nótese que como la sentencia accept está dentro de un ciclo, el hilo va a ejecutarse y al volver a llegar a accept, se detendrá hasta que sea llamado de nuevo por otro hilo."
      ]
    },
    {
      "metadata": {
        "id": "qPCxtulOcXHb",
        "colab_type": "code",
        "colab": {
          "autoexec": {
            "startup": false,
            "wait_interval": 0
          }
        }
      },
      "cell_type": "code",
      "source": [
        "begin\n",
        "      Put_Line(\"Voy a preparar un perro caliente\");\n",
        "      for Index in 1..5  \n",
        "         accept Make_A_Hot_Dog do\n",
        "            delay 0.8;\n",
        "            Put(\"Pongo el perro caliente en la mesa \");\n",
        "            Put_Line(\" y le pongo mostaza\");\n",
        "         end Make_A_Hot_Dog;\n",
        "      end loop;\n",
        "      Put_Line(\"ya no quiero mas perros calientes\");\n",
        "   end Gourmet;"
      ],
      "execution_count": 0,
      "outputs": []
    },
    {
      "metadata": {
        "id": "NHrCST9hceoi",
        "colab_type": "text"
      },
      "cell_type": "markdown",
      "source": [
        "El hilo del procedimiento hace el llamado a ejecución del hilo (tarea) en un ciclo hasta 4:"
      ]
    },
    {
      "metadata": {
        "id": "lCnuDJR6cp36",
        "colab_type": "code",
        "colab": {
          "autoexec": {
            "startup": false,
            "wait_interval": 0
          }
        }
      },
      "cell_type": "code",
      "source": [
        "for Index in 1..4 loop\n",
        "      Gourmet.Make_A_Hot_Dog;\n",
        "      delay 0.1;\n",
        "      Put_Line(\"como lo que me queda de perro caliente\");\n",
        "      New_Line;\n",
        "   end loop;"
      ],
      "execution_count": 0,
      "outputs": []
    },
    {
      "metadata": {
        "id": "xDVmEi7Lcs6r",
        "colab_type": "text"
      },
      "cell_type": "markdown",
      "source": [
        "Entonces, el hilo del procedimiento HotDog llama al hilo Gourmet, el hilo Gourmet se ejecuta dentro de su ciclo hasta 5, luego el hilo HotDog vuelve a llamar a Gourmet y así continúa en su ciclo hasta 4.\n",
        "\n",
        "###Se presenta el lockout\n",
        "\n",
        "Note que el ciclo de HotDog va hasta 4 y el de Gourmet hasta 5, adicionalmente, recuerde que es el hilo de HoDog el que hace el llamado a ejecución de Gourmet. Debido a que el hilo HotDog se ejecutará 4 veces, va a dejar uno de menos respecto al de Gourmet en ejecutar, es decir, en el momento en el que el ciclo HotDog termina el ciclo en su 4ta iteración, en el hilo Gourmet se va a detener la ejecución en la sentencia accept hasta que sea llamado de nuevo, pero debido a que el hilo que hace su llamado, el hilo HotDog, no hará más llamados, **el hilo Gourmet va a quedarse esperando indefinidamente a ser llamado en la sentencia accept**."
      ]
    },
    {
      "metadata": {
        "id": "FrUBGS3pe4up",
        "colab_type": "text"
      },
      "cell_type": "markdown",
      "source": [
        "##Deadlock o abrazo mortal\n",
        "Éste problema se basa en el caso en el que, estando dos hillos corriendo concurrentemente, uno de ellos se queda esperando un evento que nunca ocurrirá.\n",
        "\n",
        "Se muestra el ejemplo en el siguiente código Ada:"
      ]
    },
    {
      "metadata": {
        "id": "2-5N_n8Yi6Qt",
        "colab_type": "code",
        "colab": {
          "autoexec": {
            "startup": false,
            "wait_interval": 0
          }
        }
      },
      "cell_type": "code",
      "source": [
        "                                    -- Chapter 28 - Program 1\n",
        "with Ada.Text_IO;\n",
        "use Ada.Text_IO;\n",
        "  --PROGRAMA QUE PROVOCA UN DEADLOCK https://perso.telecom-paristech.fr/pautet/Ada95/chap28.htm\n",
        "procedure Meals1 is\n",
        "\n",
        "   HOURS : constant := 1;\n",
        "   type PERSON is (BILL, JOHN);\n",
        "\n",
        "   package Enum_IO is new Ada.Text_IO.Enumeration_IO(PERSON);\n",
        "   use Enum_IO;\n",
        "\n",
        "   task Bills_Day;\n",
        "   task Johns_Day;\n",
        "\n",
        "   task Restaurant is\n",
        "      entry Eat_A_Meal(Customer : PERSON);\n",
        "   end Restaurant;\n",
        "\n",
        "   task Burger_Boy is\n",
        "      entry Eat_A_Meal(Customer : PERSON);\n",
        "   end Burger_Boy;\n",
        "\n",
        "   task body Bills_Day is\n",
        "      My_Name : PERSON := BILL;\n",
        "   begin\n",
        "      delay 1.0 * HOURS;\n",
        "      Restaurant.Eat_A_Meal(My_Name);\n",
        "      delay 1.0 * HOURS;\n",
        "      Restaurant.Eat_A_Meal(My_Name);\n",
        "      delay 1.0 * HOURS;\n",
        "      Restaurant.Eat_A_Meal(My_Name);\n",
        "   end Bills_Day;\n",
        "\n",
        "   task body Johns_Day is\n",
        "      My_Name : PERSON := JOHN;\n",
        "   begin\n",
        "      delay 0.4 * HOURS;\n",
        "      Restaurant.Eat_A_Meal(My_Name);\n",
        "      delay 0.4 * HOURS;\n",
        "      Restaurant.Eat_A_Meal(My_Name);\n",
        "      delay 4.0 * HOURS;\n",
        "      Restaurant.Eat_A_Meal(My_Name);\n",
        "   end Johns_Day;\n",
        "\n",
        "   task body Restaurant is\n",
        "   begin\n",
        "      loop\n",
        "         accept Eat_A_Meal(Customer : PERSON) do\n",
        "            Put(Customer);\n",
        "            Put_Line(\" esta ordenando en el restaurante\");\n",
        "            delay 0.5 * HOURS;\n",
        "            Put(Customer);\n",
        "            Put_Line(\" esta comiendo en el restaurante\");\n",
        "            delay 0.5 * HOURS;\n",
        "         end Eat_A_Meal;\n",
        "      end loop;\n",
        "   end Restaurant;\n",
        "\n",
        "   task body Burger_Boy is\n",
        "   begin\n",
        "      loop\n",
        "         accept Eat_A_Meal(Customer : PERSON) do\n",
        "            Put(Customer);\n",
        "            Put_Line(\" esta ordenando en el McDonalds\");\n",
        "            delay 0.1 * HOURS;\n",
        "            Put(Customer);\n",
        "            Put_Line(\" esta comiendo en el McDonalds\");\n",
        "            delay 0.1 * HOURS;\n",
        "         end Eat_A_Meal;\n",
        "      end loop;\n",
        "   end Burger_Boy;\n",
        "\n",
        "begin\n",
        "   null;\n",
        "end Meals1;"
      ],
      "execution_count": 0,
      "outputs": []
    },
    {
      "metadata": {
        "id": "Sk8Kon6ZjH_7",
        "colab_type": "text"
      },
      "cell_type": "markdown",
      "source": [
        "El programa consiste de 4 tareas, cada una para descirbir Bill's day, y John's day, en cada uno ellos van y comen en un restaurante y en McDonalds. Los delays definen que se tiene un tiempo de media hora (variable HOURS) esperando en restaurante para pedir y media para comer, uno de llos come más rápido que el otro.  A la final tendrán que haber comida 3 veces.\n",
        "\n",
        "###Ocurre el deadlock\n",
        "SI se hace una inspección detallada, se notará que las tareas Bills_day y Johns_day se ejecutan secuencialmente hasta que terminan, y no hacen llamadas adicionales. SIn embargo Restaurante y Burger_Boy tienen llamados infinitos, por lo que **el deadlock se presenta porque las tareas Bills_day y Johns_day ya terminaron y no harán más llamados, el sistema ve que no hay llamadas en lso ciclos infinitos de las otras tareas, porque lo que en esos ciclos se esperará por algo que no pasará**"
      ]
    },
    {
      "metadata": {
        "id": "VwMds1m_g6Pt",
        "colab_type": "text"
      },
      "cell_type": "markdown",
      "source": [
        "##MÉTODOS DE SINCRONIZACIÓN"
      ]
    },
    {
      "metadata": {
        "id": "d8_m0_1Ye0WG",
        "colab_type": "text"
      },
      "cell_type": "markdown",
      "source": [
        "##Semáforos\n",
        "Es el método de sincronización más simple, la intención es que un proceso bloqué la sección crítica para que otro no pueda ingresar hasta que el primero termine, las funciones elementales para implementar un semáforo en c++ son:\n",
        "* sem_open: crea y habilita el semaforo\n",
        "* sem_wait: para bloquear el semaforo\n",
        "* sem_post: para desbloquear el semaforo\n",
        "* sem_close: dehabilita el semaforo\n",
        "* sem_unlink: remueve el semaforo\n",
        "\n",
        "En el ejemplo se utiliza para que cada hilo que ingrese ejecute el código de la función en su totalidad sin interferencia de otro hilo, como se muestra a continuación:\n",
        "\n",
        " * hello world, upsi 2 ḧello  *--- \n",
        " * hello world, upsi 1 ḧello  *--- \n",
        " * hello world, upsi 3 ḧello  *---\n",
        " \n",
        " de no utilizarlo se pueden obtener resultados como:\n",
        " \n",
        " * hello world, upsi hello world, upsi 3 1 hello world, upsi 2 ḧello  *--- ḧello  *--- \n",
        " * \n",
        " * ḧello  *---\n",
        " "
      ]
    },
    {
      "metadata": {
        "id": "puoBeutOjA1k",
        "colab_type": "code",
        "colab": {
          "autoexec": {
            "startup": false,
            "wait_interval": 0
          }
        }
      },
      "cell_type": "code",
      "source": [
        "#include <fcntl.h>           /* For O_* constants */\n",
        "#include <sys/stat.h>        /* For mode constants */\n",
        "#include <semaphore.h>\n",
        "#include <iostream>\n",
        "#include <pthread.h>\n",
        "#include <unistd.h>\n",
        "#include <stdio.h>\n",
        "#define SUCCESS 0\n",
        "#define THREADS 3\n",
        "#define NUM_CLIENTS_SAME_TIME 1\n",
        "#define forn(x) for (int i =0; i< x; i++)\n",
        "\n",
        "#define SNAME \"/mysem2\"\n",
        "\n",
        "/*\n",
        " *  Run with the flag -pthread\n",
        " */\n",
        "\n",
        "using namespace std;\n",
        "\n",
        "sem_t *sem;\n",
        "\n",
        "void * function (void *ap){\n",
        "    sem_wait(sem);\n",
        "    double val= 0;\n",
        "    int code =  *(int*)ap ;\n",
        "    cout << \"hello world, upsi \" << code << \" \";\n",
        "    fflush(stdout);\n",
        "    sleep(1);\n",
        "    cout << \"ḧello  *--- \"  << endl;\n",
        "    sem_post(sem);\n",
        "}\n",
        "\n",
        "void create_threads(){\n",
        "    pthread_t hilo[THREADS];\n",
        "    int *values = new int[THREADS];\n",
        "    for (int i=1; i<=THREADS; i++)\n",
        "        values[i-1] = i;\n",
        "\n",
        "    int result;\n",
        "    int arg =1,c; /*  c -> control variable */\n",
        "\n",
        "    for (int i =0; i< THREADS; i++)\n",
        "        result = pthread_create(&hilo[i], NULL,  function, (void*) &values[i]);\n",
        "    for (int i =0; i< THREADS; i++)\n",
        "        result = pthread_join (hilo[i], NULL); //Wait until the threads finish\n",
        "}\n",
        "\n",
        "\n",
        "int main (){\n",
        "    sem = sem_open(SNAME, O_CREAT, 0644, NUM_CLIENTS_SAME_TIME );\n",
        "    create_threads();\n",
        "    sem_close(sem);\n",
        "    sem_unlink(SNAME);\n",
        "}"
      ],
      "execution_count": 0,
      "outputs": []
    },
    {
      "metadata": {
        "id": "BQHtYyTxmz98",
        "colab_type": "text"
      },
      "cell_type": "markdown",
      "source": [
        "##Mutex\n",
        "\n",
        "Éste método de sincronización, consiste en bloquear el acceso a la zona crítica a los demás procesos, mientras un solo proceso está haciendo ejecuciones en esa sección.\n",
        "\n",
        "El mutex, es una **variable atómica** por lo que siempre se ejecutará en el mismo orden y no será dividida. En si, mutex es una variable binaria, donde 0 es bloqueado y 1 desbloqueado.\n",
        "\n",
        "Podemos verlo en el siguiente ejempo hecho en C:"
      ]
    },
    {
      "metadata": {
        "id": "NyCMl20enaoz",
        "colab_type": "code",
        "colab": {
          "autoexec": {
            "startup": false,
            "wait_interval": 0
          }
        }
      },
      "cell_type": "code",
      "source": [
        "#include <stdio.h>\n",
        "#include <stdlib.h>\n",
        "#include <pthread.h>\n",
        "#include <string.h> \n",
        "void *myfunc1(void *ptr);\n",
        "void *myfunc2(void *ptr);\n",
        "pthread_mutex_t lock; /*mutex*/\n",
        "int a[100];\n",
        "int main(){\n",
        "    pthread_t thrd1, thrd2;\n",
        "    int thret1, thret2;\n",
        "    char *msg1 = \"primer hilo\";\n",
        "    char *msg2 = \"segundo hilo\";\n",
        "    memset(a, 0, sizeof(a));\n",
        "    thret1 = pthread_create(&thrd1, NULL, myfunc1, (void *)msg1);\n",
        "    thret1 = pthread_create(&thrd1, NULL, myfunc2, (void *)msg1);\n",
        "    pthread_join(thrd1, NULL);\n",
        "    pthread_join(thrd2, NULL);\n",
        "    printf(\"thret1 = %d\\n\", thret1);\n",
        "    printf(\"thret2 = %d\\n\", thret2);\n",
        "    return 0;\n",
        "}\n",
        "void *myfunc1(void *ptr){/*funcion que escribe*/\n",
        "    int i;\n",
        "    char *msg = (char *)ptr;\n",
        "    printf(\"msg: %s\\n\", msg);\n",
        "    pthread_mutex_lock(&lock);\n",
        "    for(i = 0; i < 100; i++){\n",
        "        printf(\"X\");\n",
        "        a[i] = i;\n",
        "    }\n",
        "    pthread_mutex_unlock(&lock);\n",
        "}\n",
        "void *myfunc2(void *ptr){/*funcion que lee*/\n",
        "    int i;\n",
        "    char *msg = (char *)ptr;\n",
        "    printf(\"msg: %s\\n\", msg);\n",
        "    pthread_mutex_lock(&lock);\n",
        "    for(i = 0; i < 100; i++){\n",
        "        printf(\"%d, \",a[i]);\n",
        "    }\n",
        "    pthread_mutex_unlock(&lock);\n",
        "}"
      ],
      "execution_count": 0,
      "outputs": []
    },
    {
      "metadata": {
        "id": "i6k7gTHynmnX",
        "colab_type": "text"
      },
      "cell_type": "markdown",
      "source": [
        "En el código anterior, podemos ver que se declara la variable mutex, y una variable global a que es un arreglo, en la cual se harán cambios y se usará como la variable compartida en la que podŕian haber problemas.\n",
        "\n",
        "El programa tiene dos funciones: una que escribe y una que lee, se pone la sentencia *pthread_mutex_lock* dándole como argumento el mutex delcarado arriba, para que bloquee el código que le sigue abajo a los demás procesos. A l finalizar la zona crítica, en éste caso los ciclos en la sdos funciones, se libera la zona con *pthread_mutex_unlock(&lock);*, haciendo aśi que se sincronice el uso del recurso (el arreglo a global) y no se corrompan datos."
      ]
    },
    {
      "metadata": {
        "id": "mJGW6C2lo4u0",
        "colab_type": "text"
      },
      "cell_type": "markdown",
      "source": [
        "##Pipes o tubos\n",
        "Los pipes son métodos de sincronización basados en el paso de mensajes. Consiste en la apertura de un canal vía memoria, en donde un proceso escribe y el otro al otro lado lee. Los pipes sólo pueden ser usados desde un proceso padre hacia los procesos hijo. El pipe usa descriptores, los cuales son variables que controlan el flujo de mensajes en el pipe.\n",
        "\n",
        "Cada pipe tiene en cada extremo dos funciones: escribir y leer.\n",
        "En el momento en el que uno de los procesos a un extremo lee, el descriptor de escritura de bloquea, y en el otro estremo el descriptor de lectura es bloqueado mientras el de escritura es habiliado. En ese orden de ideas **solo se puede dar una única lectura y una única escritura en el pipe**.\n",
        "\n",
        "En el caso en el que se llene el pipe, se bloque al descriptor de escritura del autor que envía, mientras el de lectura va despachando.\n",
        "\n",
        "Al acabar el paso de mensajes por el pipe, el pipe es destruído por el sistema operativo.\n",
        "\n",
        "A continuación un ejemplo en C, en donde un proceso padre hace fork y crea un proceso hijo, para luego enviarle un mensaje por un buffer en el pipe de *Hola padre*"
      ]
    },
    {
      "metadata": {
        "id": "pkiP-v70qDBx",
        "colab_type": "code",
        "colab": {
          "autoexec": {
            "startup": false,
            "wait_interval": 0
          }
        }
      },
      "cell_type": "code",
      "source": [
        "#include <stdio.h>\n",
        "#include <stdlib.h>\n",
        "#include <unistd.h>\n",
        "#include <pthread.h>\n",
        "/*clang pipes.c -pthread -o pipout*/\n",
        "/*./pipout */\n",
        "int main()\n",
        "{\n",
        "    int lectura = 0;\n",
        "    int escritura = 1;\n",
        "    char mensaje[32] = \"Hola padre\"; /*mensaje a enviar por el pipe desde proceso padre a proceso hijo*/\n",
        "    char buffer[32];\n",
        "    int fd[2];\n",
        "    int r = pipe(fd);/*creacion del pipe*/\n",
        "    pid_t pid;\n",
        "    pid = fork();/*subdivision del proceso padre en proceso hijo*/\n",
        "    if(r == -1){\n",
        "        perror(\"error en la creacion de la tuberia\");\n",
        "        exit(0);\n",
        "    }\n",
        "    if(pid < 0){\n",
        "        perror(\"error en proceso creado\");\n",
        "    }\n",
        "    if(pid == 0){/*PROCESO HIJO*/\n",
        "        close(fd[lectura]);/*como el hijo no lee se bloquea la lectura de el*/\n",
        "        printf(\"bloqueo lectura hijo \\n\");\n",
        "        r = write(fd[escritura], mensaje, sizeof(mensaje)+1);/*envia el mensaje por el pipe*/\n",
        "        printf(\"escritura hijo hecha \\n\");\n",
        "        close(fd[escritura]);/*bloquea el lado de escritura*/\n",
        "    }else{\n",
        "        close(fd[escritura]);/*PROCESO PADRE*/\n",
        "        printf(\"bloqueo escritura padre \\n\");\n",
        "        r = read(fd[lectura], buffer, sizeof(buffer)+1);/*lee lo que le enviaron en el pipe*/\n",
        "        printf(\"buffer cargado del pipe \\n\");\n",
        "        printf(\"%s\\n\", buffer);/*imprime lo que llego del pipe*/\n",
        "        close(fd[lectura]);/*cierra el lado de lectura*/\n",
        "    }\n",
        "return 0;\n",
        "}\n"
      ],
      "execution_count": 0,
      "outputs": []
    },
    {
      "metadata": {
        "id": "AbfqMlpyqwOH",
        "colab_type": "text"
      },
      "cell_type": "markdown",
      "source": [
        "Realizado por:\n",
        "* Nicolas Ricardo Enciso\n",
        "* Diego Felipe Rodriguez Chaparro\n",
        "* Camilo Alfonso Mosquera Benavides\n",
        "\n",
        "Lenguajes de Programación,  2018-1"
      ]
    }
  ]
}